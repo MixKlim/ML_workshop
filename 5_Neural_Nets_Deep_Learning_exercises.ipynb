{
 "cells": [
  {
   "cell_type": "code",
   "execution_count": 1,
   "metadata": {
    "collapsed": true
   },
   "outputs": [],
   "source": [
    "%matplotlib inline\n",
    "import numpy as np\n",
    "import matplotlib.pyplot as plt\n",
    "import seaborn as sns\n",
    "import pandas as pd\n",
    "\n",
    "sns.set_style('white')\n",
    "sns.set_context('poster')\n",
    "\n",
    "colors = sns.color_palette(\"deep\", 10)\n",
    "sns.set_palette(colors)\n"
   ]
  },
  {
   "cell_type": "markdown",
   "metadata": {},
   "source": [
    "# Solutions: Neural Networks and Deep Learning\n",
    "\n",
    "In this notebook, we will scratch the surface of using neural networks and deep learning. We will mostly use the one model for this that is implemented in scikit-learn (at the time of writing this workshop), because then we are not distracted by interfacing and API issues and can focus on what we are trying to do. In the instruction notebook, there is an overview of how to solve one of the last of the exercises here with Tensorflow, a widely used general-purpose package for deep neural networks. Other often used packages are theano and keras. For all three, and for doing machine learning in general, the law of conservation of misery holds: if you want to be able to tweak more and be more flexible, it will come at the cost of a more complicated interface, for which you will have to specify more manually.\n",
    "\n",
    "## The MNIST handwritten digits\n",
    "\n",
    "There is a famous data set of hand written digits that are labeled. It's called MNIST and is famous enough to have a fetcher function in sklearn.datasets. We will first work with a smaller version of the data set, that came with the workshop material:"
   ]
  },
  {
   "cell_type": "code",
   "execution_count": 2,
   "metadata": {},
   "outputs": [
    {
     "data": {
      "text/html": [
       "<div>\n",
       "<style>\n",
       "    .dataframe thead tr:only-child th {\n",
       "        text-align: right;\n",
       "    }\n",
       "\n",
       "    .dataframe thead th {\n",
       "        text-align: left;\n",
       "    }\n",
       "\n",
       "    .dataframe tbody tr th {\n",
       "        vertical-align: top;\n",
       "    }\n",
       "</style>\n",
       "<table border=\"1\" class=\"dataframe\">\n",
       "  <thead>\n",
       "    <tr style=\"text-align: right;\">\n",
       "      <th></th>\n",
       "      <th>label</th>\n",
       "      <th>pixel0</th>\n",
       "      <th>pixel1</th>\n",
       "      <th>pixel2</th>\n",
       "      <th>pixel3</th>\n",
       "      <th>pixel4</th>\n",
       "      <th>pixel5</th>\n",
       "      <th>pixel6</th>\n",
       "      <th>pixel7</th>\n",
       "      <th>pixel8</th>\n",
       "      <th>...</th>\n",
       "      <th>pixel774</th>\n",
       "      <th>pixel775</th>\n",
       "      <th>pixel776</th>\n",
       "      <th>pixel777</th>\n",
       "      <th>pixel778</th>\n",
       "      <th>pixel779</th>\n",
       "      <th>pixel780</th>\n",
       "      <th>pixel781</th>\n",
       "      <th>pixel782</th>\n",
       "      <th>pixel783</th>\n",
       "    </tr>\n",
       "  </thead>\n",
       "  <tbody>\n",
       "    <tr>\n",
       "      <th>0</th>\n",
       "      <td>1</td>\n",
       "      <td>0</td>\n",
       "      <td>0</td>\n",
       "      <td>0</td>\n",
       "      <td>0</td>\n",
       "      <td>0</td>\n",
       "      <td>0</td>\n",
       "      <td>0</td>\n",
       "      <td>0</td>\n",
       "      <td>0</td>\n",
       "      <td>...</td>\n",
       "      <td>0</td>\n",
       "      <td>0</td>\n",
       "      <td>0</td>\n",
       "      <td>0</td>\n",
       "      <td>0</td>\n",
       "      <td>0</td>\n",
       "      <td>0</td>\n",
       "      <td>0</td>\n",
       "      <td>0</td>\n",
       "      <td>0</td>\n",
       "    </tr>\n",
       "    <tr>\n",
       "      <th>1</th>\n",
       "      <td>0</td>\n",
       "      <td>0</td>\n",
       "      <td>0</td>\n",
       "      <td>0</td>\n",
       "      <td>0</td>\n",
       "      <td>0</td>\n",
       "      <td>0</td>\n",
       "      <td>0</td>\n",
       "      <td>0</td>\n",
       "      <td>0</td>\n",
       "      <td>...</td>\n",
       "      <td>0</td>\n",
       "      <td>0</td>\n",
       "      <td>0</td>\n",
       "      <td>0</td>\n",
       "      <td>0</td>\n",
       "      <td>0</td>\n",
       "      <td>0</td>\n",
       "      <td>0</td>\n",
       "      <td>0</td>\n",
       "      <td>0</td>\n",
       "    </tr>\n",
       "    <tr>\n",
       "      <th>2</th>\n",
       "      <td>1</td>\n",
       "      <td>0</td>\n",
       "      <td>0</td>\n",
       "      <td>0</td>\n",
       "      <td>0</td>\n",
       "      <td>0</td>\n",
       "      <td>0</td>\n",
       "      <td>0</td>\n",
       "      <td>0</td>\n",
       "      <td>0</td>\n",
       "      <td>...</td>\n",
       "      <td>0</td>\n",
       "      <td>0</td>\n",
       "      <td>0</td>\n",
       "      <td>0</td>\n",
       "      <td>0</td>\n",
       "      <td>0</td>\n",
       "      <td>0</td>\n",
       "      <td>0</td>\n",
       "      <td>0</td>\n",
       "      <td>0</td>\n",
       "    </tr>\n",
       "    <tr>\n",
       "      <th>3</th>\n",
       "      <td>4</td>\n",
       "      <td>0</td>\n",
       "      <td>0</td>\n",
       "      <td>0</td>\n",
       "      <td>0</td>\n",
       "      <td>0</td>\n",
       "      <td>0</td>\n",
       "      <td>0</td>\n",
       "      <td>0</td>\n",
       "      <td>0</td>\n",
       "      <td>...</td>\n",
       "      <td>0</td>\n",
       "      <td>0</td>\n",
       "      <td>0</td>\n",
       "      <td>0</td>\n",
       "      <td>0</td>\n",
       "      <td>0</td>\n",
       "      <td>0</td>\n",
       "      <td>0</td>\n",
       "      <td>0</td>\n",
       "      <td>0</td>\n",
       "    </tr>\n",
       "    <tr>\n",
       "      <th>4</th>\n",
       "      <td>0</td>\n",
       "      <td>0</td>\n",
       "      <td>0</td>\n",
       "      <td>0</td>\n",
       "      <td>0</td>\n",
       "      <td>0</td>\n",
       "      <td>0</td>\n",
       "      <td>0</td>\n",
       "      <td>0</td>\n",
       "      <td>0</td>\n",
       "      <td>...</td>\n",
       "      <td>0</td>\n",
       "      <td>0</td>\n",
       "      <td>0</td>\n",
       "      <td>0</td>\n",
       "      <td>0</td>\n",
       "      <td>0</td>\n",
       "      <td>0</td>\n",
       "      <td>0</td>\n",
       "      <td>0</td>\n",
       "      <td>0</td>\n",
       "    </tr>\n",
       "  </tbody>\n",
       "</table>\n",
       "<p>5 rows × 785 columns</p>\n",
       "</div>"
      ],
      "text/plain": [
       "   label  pixel0  pixel1  pixel2  pixel3  pixel4  pixel5  pixel6  pixel7  \\\n",
       "0      1       0       0       0       0       0       0       0       0   \n",
       "1      0       0       0       0       0       0       0       0       0   \n",
       "2      1       0       0       0       0       0       0       0       0   \n",
       "3      4       0       0       0       0       0       0       0       0   \n",
       "4      0       0       0       0       0       0       0       0       0   \n",
       "\n",
       "   pixel8    ...     pixel774  pixel775  pixel776  pixel777  pixel778  \\\n",
       "0       0    ...            0         0         0         0         0   \n",
       "1       0    ...            0         0         0         0         0   \n",
       "2       0    ...            0         0         0         0         0   \n",
       "3       0    ...            0         0         0         0         0   \n",
       "4       0    ...            0         0         0         0         0   \n",
       "\n",
       "   pixel779  pixel780  pixel781  pixel782  pixel783  \n",
       "0         0         0         0         0         0  \n",
       "1         0         0         0         0         0  \n",
       "2         0         0         0         0         0  \n",
       "3         0         0         0         0         0  \n",
       "4         0         0         0         0         0  \n",
       "\n",
       "[5 rows x 785 columns]"
      ]
     },
     "execution_count": 2,
     "metadata": {},
     "output_type": "execute_result"
    }
   ],
   "source": [
    "digitfile = 'data/digits_train_sample.csv'\n",
    "\n",
    "digits = pd.read_csv(digitfile)\n",
    "digits.head()"
   ]
  },
  {
   "cell_type": "code",
   "execution_count": 3,
   "metadata": {},
   "outputs": [
    {
     "data": {
      "image/png": "[encoded data removed]",
      "text/plain": [
       "<matplotlib.figure.Figure at 0x7fb11f62a240>"
      ]
     },
     "metadata": {},
     "output_type": "display_data"
    }
   ],
   "source": [
    "# You might notice that there are 784 pixels, which happens to be 28**2, which is the shape of the images\n",
    "imsize = 28\n",
    "\n",
    "# Let's plot a random example of each one - Running this a few times will give you different images each time! \n",
    "plt.figure(figsize=[5, 8])\n",
    "for target in range(10):\n",
    "    deze = np.random.choice(digits[digits.label == target].index)\n",
    "    number = np.reshape(np.array(digits[digits.index == deze])[0][1:], [imsize, imsize])\n",
    "    pp = plt.subplot(5, 2, target+1)\n",
    "    pp.imshow(number, cmap='Greys')\n",
    "    pp.set_xticklabels([])\n",
    "    pp.set_yticklabels([])\n",
    "  "
   ]
  },
  {
   "cell_type": "markdown",
   "metadata": {},
   "source": [
    "For some good practice with pandas-like data sets, please create similar thumbnail images of all digits, now showing the average image per label."
   ]
  },
  {
   "cell_type": "code",
   "execution_count": null,
   "metadata": {
    "collapsed": true
   },
   "outputs": [],
   "source": []
  },
  {
   "cell_type": "markdown",
   "metadata": {
    "collapsed": true
   },
   "source": [
    "Let's transform the pandas data frames into the data structures that scikit-learn likes more:"
   ]
  },
  {
   "cell_type": "code",
   "execution_count": 5,
   "metadata": {
    "collapsed": true
   },
   "outputs": [],
   "source": [
    "labels = digits.label\n",
    "features = digits.iloc[:,1:]"
   ]
  },
  {
   "cell_type": "markdown",
   "metadata": {
    "collapsed": true
   },
   "source": [
    "So, with all the experience you have by now, you should be able to run a quick logistic regression model. It should predict the labels given the features. Score on both training and test data and have a look at the confusion matrix (a matrix of predicted label versus real label), make a plot of that and see if you can to an extent explain the appearance of it."
   ]
  },
  {
   "cell_type": "code",
   "execution_count": null,
   "metadata": {
    "collapsed": true
   },
   "outputs": [],
   "source": []
  },
  {
   "cell_type": "code",
   "execution_count": null,
   "metadata": {
    "collapsed": true
   },
   "outputs": [],
   "source": []
  },
  {
   "cell_type": "markdown",
   "metadata": {
    "collapsed": true
   },
   "source": [
    "The logistic regression does a decent job on the test sample, but seems to be overfitting. \n",
    "\n",
    "*Question 1*: What does that mean, and how can you see that from the above results?\n",
    "\n",
    "*Question 2*: Why would you not necessarily expect a logistic regression to perform extremely well on a problem like this?"
   ]
  },
  {
   "cell_type": "code",
   "execution_count": null,
   "metadata": {
    "collapsed": true
   },
   "outputs": [],
   "source": []
  },
  {
   "cell_type": "markdown",
   "metadata": {},
   "source": [
    "With the arsenal of methods we have seen before, we can try to see if there is any structure in the data anyway.  Try a PCA, as well as a 2-component t-SNE to see if there is structure in the data. For the PCA case: can you identify the two principle components in vague descriptions? "
   ]
  },
  {
   "cell_type": "code",
   "execution_count": null,
   "metadata": {
    "collapsed": true
   },
   "outputs": [],
   "source": []
  },
  {
   "cell_type": "markdown",
   "metadata": {
    "collapsed": true
   },
   "source": [
    "Alright, let's do neural networks. Neural networks do better with bigger data sets. Therefore, we will use the data fetcher and get a bigger data set of digits, that apart from the data structure it is in, is extremely similar to the data used above. Now that you have seen the fetcher before, try to figure how to do this yourself. If necessary, use google, the docs, etc. If all else fails, there's always the solutions notebook.\n",
    "\n",
    "So, go ahead and fetch the data, and create an array of features and labels in the same units as above."
   ]
  },
  {
   "cell_type": "code",
   "execution_count": null,
   "metadata": {
    "collapsed": true
   },
   "outputs": [],
   "source": []
  },
  {
   "cell_type": "markdown",
   "metadata": {},
   "source": [
    "Consequently, create a train and test set and in order to have a fair comparison to the exercise above, run a logistic regression on this data as well. Think about the difference in results for a bit. Why is $R^2$ significantly higher with this bigger data set?"
   ]
  },
  {
   "cell_type": "code",
   "execution_count": null,
   "metadata": {
    "collapsed": true
   },
   "outputs": [],
   "source": []
  },
  {
   "cell_type": "markdown",
   "metadata": {},
   "source": [
    "Finally, onto the neural networks. sklearn.neural_network as the Multi-layer Perceptron model, which can do traditional, as well as deep neural networks. Have a look at the docs.\n",
    "\n",
    "Set up a MLPClassifier for the digits with one layer. Score on train and test data. Then play with the number of neurons of the one hidden layer, vary it strongly (go below ten, as well as far above) and investigate the results. "
   ]
  },
  {
   "cell_type": "code",
   "execution_count": null,
   "metadata": {
    "collapsed": true
   },
   "outputs": [],
   "source": []
  },
  {
   "cell_type": "markdown",
   "metadata": {
    "collapsed": true
   },
   "source": [
    "Now train a deep network, with three layers. You should be able to get the $R^2$ close to 98%. Good luck!"
   ]
  },
  {
   "cell_type": "code",
   "execution_count": null,
   "metadata": {
    "collapsed": true
   },
   "outputs": [],
   "source": []
  },
  {
   "cell_type": "markdown",
   "metadata": {},
   "source": [
    "## Auto-encoding\n",
    "\n",
    "Deep networks, with layers halfway that consist of few neurons can be used as a dimension reduction tool. After all, if the score fo the full network is X, all that information reaches the output, *through* that layer of few neurons, which, therefore, must contain at least contain the information to recover a fraction X of all true labels.\n",
    "\n",
    "These images contain 784 pixels, but as it will turn out, a model score of 95% can be reached with a deep \"auto-encoding\" neural network that has a middle layer of just 2 neurons! One way to reduce data volumes would be to keep only 2 numbers (the output value of the layer of two neurons) and the weights for the network that goes back up to the output scheme.\n",
    "\n",
    "Train an auto-encoder, that has at least one layer, somehwere, with almost 2 neurons. Get the score on the output well above 90% (on unseen data). When you get that working, use the .coefs\\_ attribute and their documentation to find output of the layer of 2 neurons and plot those two \"components\" as a scatter plot. Discuss with yourself and neighbors what you could do with this."
   ]
  },
  {
   "cell_type": "code",
   "execution_count": null,
   "metadata": {
    "collapsed": true
   },
   "outputs": [],
   "source": []
  },
  {
   "cell_type": "code",
   "execution_count": null,
   "metadata": {
    "collapsed": true
   },
   "outputs": [],
   "source": []
  },
  {
   "cell_type": "markdown",
   "metadata": {
    "collapsed": true
   },
   "source": [
    "## Bonus exercise\n",
    "\n",
    "There is no recipe. There is no cookbook. Play around (either by hand, or with grid search) with some hyperparameters and see if you can get a better score (also without the auto-encoding). Typically, to get over 99% (and, therefore, to even remotely have a chance to compete with pride on Kaggle) you will have to do feature engineering. The images are not in their best shape as they are. You could sit here for another few days and try stuff. Why don't you try something you like?\n",
    "\n",
    "** * Only read on if you want a spoiler-like hint * **\n",
    "\n",
    "If you can't think of anything yourself, here is a suggestion (one that actually should work well, if you do it well). The digits have empty space surrounding them on the images, both vertically and horizontally. If you remove all empty columns and rows, you will end up with images of different shapes (especially those with a 1 will be quite narrow). Reshape (interpolate, whatever you seem fit) to get them back to the original size (ones will become mostly black) them back to the original size and fit another neural network (deep, with many neurons in the first hidden layer) on this data set. That should already help. If you want even more, you could think of an \"orientation correction\", that first gets all images aligned, which helps especially for narrow images again.\n",
    "\n",
    "There are no solutions to this, because there is way too much freedom in here. For inspiration and further practice, see [the kaggle page of this data set](https://www.kaggle.com/c/digit-recognizer/kernels). In the instruction notebook there is an example of doing something like this using TensorFlow, which is more versatile, but also more difficult to use, than what is done here."
   ]
  },
  {
   "cell_type": "code",
   "execution_count": null,
   "metadata": {
    "collapsed": true
   },
   "outputs": [],
   "source": []
  },
  {
   "cell_type": "code",
   "execution_count": null,
   "metadata": {
    "collapsed": true
   },
   "outputs": [],
   "source": []
  }
 ],
 "metadata": {
  "kernelspec": {
   "display_name": "Python 3",
   "language": "python",
   "name": "python3"
  },
  "language_info": {
   "codemirror_mode": {
    "name": "ipython",
    "version": 3
   },
   "file_extension": ".py",
   "mimetype": "text/x-python",
   "name": "python",
   "nbconvert_exporter": "python",
   "pygments_lexer": "ipython3",
   "version": "3.6.2"
  }
 },
 "nbformat": 4,
 "nbformat_minor": 2
}
